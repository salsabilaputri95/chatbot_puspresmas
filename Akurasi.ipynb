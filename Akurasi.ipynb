{
 "cells": [
  {
   "cell_type": "markdown",
   "metadata": {},
   "source": [
    "### Import Library"
   ]
  },
  {
   "cell_type": "code",
   "execution_count": 6,
   "metadata": {},
   "outputs": [],
   "source": [
    "from flask import Flask, render_template, request\n",
    "import pandas as pd\n",
    "import numpy as np\n",
    "from sklearn.feature_extraction.text import TfidfVectorizer\n",
    "from sklearn.metrics.pairwise import cosine_similarity\n",
    "from Sastrawi.Stemmer.StemmerFactory import StemmerFactory\n",
    "import re\n"
   ]
  },
  {
   "cell_type": "markdown",
   "metadata": {},
   "source": [
    "### Load Dataset"
   ]
  },
  {
   "cell_type": "code",
   "execution_count": 7,
   "metadata": {},
   "outputs": [
    {
     "data": {
      "text/html": [
       "<div>\n",
       "<style scoped>\n",
       "    .dataframe tbody tr th:only-of-type {\n",
       "        vertical-align: middle;\n",
       "    }\n",
       "\n",
       "    .dataframe tbody tr th {\n",
       "        vertical-align: top;\n",
       "    }\n",
       "\n",
       "    .dataframe thead th {\n",
       "        text-align: right;\n",
       "    }\n",
       "</style>\n",
       "<table border=\"1\" class=\"dataframe\">\n",
       "  <thead>\n",
       "    <tr style=\"text-align: right;\">\n",
       "      <th></th>\n",
       "      <th>Pertanyaan</th>\n",
       "      <th>Jawaban</th>\n",
       "    </tr>\n",
       "  </thead>\n",
       "  <tbody>\n",
       "    <tr>\n",
       "      <th>0</th>\n",
       "      <td>Apa saja lomba yang bisa saya ikuti?</td>\n",
       "      <td>Berikut adalah beberapa lomba yang dapat Anda ...</td>\n",
       "    </tr>\n",
       "    <tr>\n",
       "      <th>1</th>\n",
       "      <td>Lomba apa saja yang dapat saya ikuti sebagai m...</td>\n",
       "      <td>Beberapa lomba yang dapat Anda ikuti sebagai m...</td>\n",
       "    </tr>\n",
       "    <tr>\n",
       "      <th>2</th>\n",
       "      <td>Apa saja kompetisi yang bisa diikuti oleh maha...</td>\n",
       "      <td>Anda dapat mengikuti berbagai lomba seperti PI...</td>\n",
       "    </tr>\n",
       "    <tr>\n",
       "      <th>3</th>\n",
       "      <td>Lomba apa saja yang diadakan untuk mahasiswa d...</td>\n",
       "      <td>Beberapa lomba yang diadakan untuk mahasiswa a...</td>\n",
       "    </tr>\n",
       "    <tr>\n",
       "      <th>4</th>\n",
       "      <td>Lomba-lomba apa yang tersedia untuk mahasiswa?</td>\n",
       "      <td>Lomba-lomba yang tersedia untuk mahasiswa anta...</td>\n",
       "    </tr>\n",
       "  </tbody>\n",
       "</table>\n",
       "</div>"
      ],
      "text/plain": [
       "                                          Pertanyaan  \\\n",
       "0               Apa saja lomba yang bisa saya ikuti?   \n",
       "1  Lomba apa saja yang dapat saya ikuti sebagai m...   \n",
       "2  Apa saja kompetisi yang bisa diikuti oleh maha...   \n",
       "3  Lomba apa saja yang diadakan untuk mahasiswa d...   \n",
       "4     Lomba-lomba apa yang tersedia untuk mahasiswa?   \n",
       "\n",
       "                                             Jawaban  \n",
       "0  Berikut adalah beberapa lomba yang dapat Anda ...  \n",
       "1  Beberapa lomba yang dapat Anda ikuti sebagai m...  \n",
       "2  Anda dapat mengikuti berbagai lomba seperti PI...  \n",
       "3  Beberapa lomba yang diadakan untuk mahasiswa a...  \n",
       "4  Lomba-lomba yang tersedia untuk mahasiswa anta...  "
      ]
     },
     "execution_count": 7,
     "metadata": {},
     "output_type": "execute_result"
    }
   ],
   "source": [
    "faq_data = pd.read_excel('dataset.xlsx')\n",
    "faq_data.head()"
   ]
  },
  {
   "cell_type": "markdown",
   "metadata": {},
   "source": [
    "### Inisialisasi Stemmer Indonesia dari Sastrawi"
   ]
  },
  {
   "cell_type": "code",
   "execution_count": 8,
   "metadata": {},
   "outputs": [],
   "source": [
    "factory = StemmerFactory()\n",
    "stemmer = factory.create_stemmer()"
   ]
  },
  {
   "cell_type": "markdown",
   "metadata": {},
   "source": [
    "### Melakukan preprocessing pada pertanyaan di dataset"
   ]
  },
  {
   "cell_type": "code",
   "execution_count": 9,
   "metadata": {},
   "outputs": [],
   "source": [
    "def preprocess_text(text):\n",
    "    text = text.lower()\n",
    "    words = re.findall(r'\\b\\w+\\b', text)\n",
    "    processed_text = [stemmer.stem(word) for word in words]\n",
    "    return ' '.join(processed_text)\n",
    "\n",
    "faq_data['Processed_Pertanyaan'] = faq_data['Pertanyaan'].apply(preprocess_text)"
   ]
  },
  {
   "cell_type": "markdown",
   "metadata": {},
   "source": [
    "### TF-IDF Vectorization"
   ]
  },
  {
   "cell_type": "code",
   "execution_count": 10,
   "metadata": {},
   "outputs": [],
   "source": [
    "vectorizer = TfidfVectorizer()\n",
    "tfidf_matrix = vectorizer.fit_transform(faq_data['Processed_Pertanyaan'])"
   ]
  },
  {
   "cell_type": "markdown",
   "metadata": {},
   "source": [
    "### Membuat Fungsi Respon"
   ]
  },
  {
   "cell_type": "code",
   "execution_count": 11,
   "metadata": {},
   "outputs": [],
   "source": [
    "def get_response(user_query):\n",
    "    processed_query = preprocess_text(user_query)\n",
    "    query_tfidf = vectorizer.transform([processed_query])\n",
    "    cosine_similarities = cosine_similarity(query_tfidf, tfidf_matrix)\n",
    "    most_similar_idx = np.argmax(cosine_similarities)\n",
    "    response = faq_data.iloc[most_similar_idx]['Jawaban']\n",
    "    \n",
    "    return response  "
   ]
  },
  {
   "cell_type": "markdown",
   "metadata": {},
   "source": [
    "### Mengecek Akurasi Model"
   ]
  },
  {
   "cell_type": "code",
   "execution_count": 12,
   "metadata": {},
   "outputs": [
    {
     "name": "stdout",
     "output_type": "stream",
     "text": [
      "Akurasi chatbot: 70.37%\n"
     ]
    }
   ],
   "source": [
    "def evaluate_accuracy(test_data):\n",
    "    test_data['Processed_Pertanyaan'] = test_data['Pertanyaan'].apply(preprocess_text)\n",
    "    \n",
    "    correct_predictions = 0  \n",
    "    \n",
    "    for i, row in test_data.iterrows():\n",
    "        processed_query = row['Processed_Pertanyaan']\n",
    "        expected_answer = row['Jawaban']\n",
    "        query_tfidf = vectorizer.transform([processed_query])\n",
    "        cosine_similarities = cosine_similarity(query_tfidf, tfidf_matrix)\n",
    "        most_similar_idx = np.argmax(cosine_similarities)\n",
    "        predicted_answer = faq_data.iloc[most_similar_idx]['Jawaban']\n",
    "        if predicted_answer == expected_answer:\n",
    "            correct_predictions += 1\n",
    "\n",
    "    accuracy = correct_predictions / len(test_data)\n",
    "    return accuracy\n",
    "\n",
    "test_data = pd.read_excel('test_data.xlsx')  \n",
    "accuracy = evaluate_accuracy(test_data)\n",
    "print(f'Akurasi chatbot: {accuracy * 100:.2f}%')"
   ]
  },
  {
   "cell_type": "code",
   "execution_count": 13,
   "metadata": {},
   "outputs": [
    {
     "name": "stdout",
     "output_type": "stream",
     "text": [
      "Index(['Pertanyaan', 'Jawaban'], dtype='object')\n",
      "Jawaban yang diprediksi: Beberapa lomba yang dapat Anda ikuti sebagai mahasiswa adalah PIMNAS, GEMASTIK, KRI, LIDM, PILMAPRES, dan KDMI. Lomba-lomba ini mencakup berbagai bidang seperti penelitian, teknologi, inovasi digital, debat, dan lainnya. Pastikan untuk mempersiapkan diri dan mengikuti proses pendaftaran yang telah ditentukan!\n"
     ]
    }
   ],
   "source": [
    "import pandas as pd\n",
    "from sklearn.feature_extraction.text import TfidfVectorizer\n",
    "from sklearn.metrics.pairwise import cosine_similarity\n",
    "\n",
    "# Dataset pertanyaan dan jawaban\n",
    "data = pd.read_excel(\"dataset.xlsx\")\n",
    "\n",
    "# Menampilkan nama-nama kolom untuk memastikan format\n",
    "print(data.columns)\n",
    "\n",
    "df = pd.DataFrame(data)\n",
    "\n",
    "# Pertanyaan dari pengguna\n",
    "user_query = \"saya adalah ketua di tim saya, berapa point yang saya dapat jika saya mendapat mendali emas di gemastik?\"\n",
    "# Menghitung TF-IDF untuk dataset dan query\n",
    "vectorizer = TfidfVectorizer()\n",
    "\n",
    "# Menggunakan pd.concat() untuk menggabungkan series\n",
    "tfidf_matrix = vectorizer.fit_transform(pd.concat([df['Pertanyaan'], pd.Series([user_query])]))\n",
    "\n",
    "# Menghitung Cosine Similarity\n",
    "cosine_similarities = cosine_similarity(tfidf_matrix[-1], tfidf_matrix[:-1])\n",
    "\n",
    "# Menemukan indeks jawaban yang paling relevan\n",
    "most_similar_idx = cosine_similarities.argmax()\n",
    "predicted_answer = df['Jawaban'][most_similar_idx]\n",
    "\n",
    "# Output jawaban yang diprediksi\n",
    "print(f'Jawaban yang diprediksi: {predicted_answer}')\n"
   ]
  },
  {
   "cell_type": "code",
   "execution_count": null,
   "metadata": {},
   "outputs": [],
   "source": []
  }
 ],
 "metadata": {
  "kernelspec": {
   "display_name": "Python 3",
   "language": "python",
   "name": "python3"
  },
  "language_info": {
   "codemirror_mode": {
    "name": "ipython",
    "version": 3
   },
   "file_extension": ".py",
   "mimetype": "text/x-python",
   "name": "python",
   "nbconvert_exporter": "python",
   "pygments_lexer": "ipython3",
   "version": "3.11.5"
  }
 },
 "nbformat": 4,
 "nbformat_minor": 2
}
